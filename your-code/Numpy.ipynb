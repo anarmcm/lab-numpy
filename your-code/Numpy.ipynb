{
 "cells": [
  {
   "cell_type": "markdown",
   "metadata": {},
   "source": [
    "# Intrduction to NumPy\n",
    "\n",
    "\n",
    "#### 1. Import NumPy under the name np."
   ]
  },
  {
   "cell_type": "code",
   "execution_count": 6,
   "metadata": {},
   "outputs": [],
   "source": [
    "import numpy as np"
   ]
  },
  {
   "cell_type": "markdown",
   "metadata": {},
   "source": [
    "#### 2. Print your NumPy version."
   ]
  },
  {
   "cell_type": "code",
   "execution_count": 7,
   "metadata": {},
   "outputs": [
    {
     "name": "stdout",
     "output_type": "stream",
     "text": [
      "<module 'numpy' from '/usr/local/lib/python3.7/site-packages/numpy/__init__.py'>\n"
     ]
    }
   ],
   "source": [
    "print(np)"
   ]
  },
  {
   "cell_type": "markdown",
   "metadata": {},
   "source": [
    "#### 3. Generate a 2x3x5 3-dimensional array with random values. Assign the array to variable *a*.\n",
    "**Challenge**: there are at least three easy ways that use numpy to generate random arrays. How many ways can you find?"
   ]
  },
  {
   "cell_type": "code",
   "execution_count": 8,
   "metadata": {},
   "outputs": [],
   "source": [
    "a = np.random.rand(2,3,5)"
   ]
  },
  {
   "cell_type": "code",
   "execution_count": 9,
   "metadata": {},
   "outputs": [],
   "source": [
    "a1 = np.random.randint(20, size = (3,5))"
   ]
  },
  {
   "cell_type": "code",
   "execution_count": 10,
   "metadata": {},
   "outputs": [],
   "source": [
    "a2 = np.empty(shape = (2,3,5))"
   ]
  },
  {
   "cell_type": "markdown",
   "metadata": {},
   "source": [
    "#### 4. Print *a*.\n"
   ]
  },
  {
   "cell_type": "code",
   "execution_count": 11,
   "metadata": {},
   "outputs": [
    {
     "name": "stdout",
     "output_type": "stream",
     "text": [
      "[[[3.99499871e-01 3.95980828e-04 4.44183371e-01 3.99475850e-01\n",
      "   6.04016207e-01]\n",
      "  [2.86888903e-01 4.42447990e-01 3.41151165e-01 6.47581455e-01\n",
      "   8.07527711e-01]\n",
      "  [5.89887572e-02 3.29476633e-01 6.10077973e-01 7.33767997e-01\n",
      "   1.48267851e-01]]\n",
      "\n",
      " [[3.55846376e-01 3.94931283e-01 9.84461673e-02 7.23946191e-01\n",
      "   7.85239963e-01]\n",
      "  [2.21991738e-01 4.59685106e-01 5.16053081e-01 4.64727233e-01\n",
      "   7.86878739e-01]\n",
      "  [7.56749738e-01 4.19047013e-01 5.94206631e-01 4.12888121e-01\n",
      "   6.81666024e-01]]]\n"
     ]
    }
   ],
   "source": [
    "print(a)"
   ]
  },
  {
   "cell_type": "markdown",
   "metadata": {},
   "source": [
    "#### 5. Create a 5x2x3 3-dimensional array with all values equaling 1. Assign the array to variable *b*."
   ]
  },
  {
   "cell_type": "code",
   "execution_count": 12,
   "metadata": {},
   "outputs": [],
   "source": [
    "b = np.ones((5,2,3)) #float"
   ]
  },
  {
   "cell_type": "markdown",
   "metadata": {},
   "source": [
    "#### 6. Print *b*.\n"
   ]
  },
  {
   "cell_type": "code",
   "execution_count": 13,
   "metadata": {},
   "outputs": [
    {
     "name": "stdout",
     "output_type": "stream",
     "text": [
      "[[[1. 1. 1.]\n",
      "  [1. 1. 1.]]\n",
      "\n",
      " [[1. 1. 1.]\n",
      "  [1. 1. 1.]]\n",
      "\n",
      " [[1. 1. 1.]\n",
      "  [1. 1. 1.]]\n",
      "\n",
      " [[1. 1. 1.]\n",
      "  [1. 1. 1.]]\n",
      "\n",
      " [[1. 1. 1.]\n",
      "  [1. 1. 1.]]]\n"
     ]
    }
   ],
   "source": [
    "print(b)"
   ]
  },
  {
   "cell_type": "markdown",
   "metadata": {},
   "source": [
    "#### 7. Do *a* and *b* have the same size? How do you prove that in Python code?"
   ]
  },
  {
   "cell_type": "code",
   "execution_count": 14,
   "metadata": {},
   "outputs": [
    {
     "data": {
      "text/plain": [
       "True"
      ]
     },
     "execution_count": 14,
     "metadata": {},
     "output_type": "execute_result"
    }
   ],
   "source": [
    "np.array(a).size == np.array(b).size"
   ]
  },
  {
   "cell_type": "markdown",
   "metadata": {},
   "source": [
    "#### 8. Are you able to add *a* and *b*? Why or why not?\n"
   ]
  },
  {
   "cell_type": "code",
   "execution_count": 15,
   "metadata": {},
   "outputs": [
    {
     "ename": "ValueError",
     "evalue": "operands could not be broadcast together with shapes (2,3,5) (5,2,3) ",
     "output_type": "error",
     "traceback": [
      "\u001b[0;31m---------------------------------------------------------------------------\u001b[0m",
      "\u001b[0;31mValueError\u001b[0m                                Traceback (most recent call last)",
      "\u001b[0;32m<ipython-input-15-79a52fdbb0b6>\u001b[0m in \u001b[0;36m<module>\u001b[0;34m\u001b[0m\n\u001b[0;32m----> 1\u001b[0;31m \u001b[0mnp\u001b[0m\u001b[0;34m.\u001b[0m\u001b[0marray\u001b[0m\u001b[0;34m(\u001b[0m\u001b[0ma\u001b[0m\u001b[0;34m)\u001b[0m \u001b[0;34m+\u001b[0m \u001b[0mnp\u001b[0m\u001b[0;34m.\u001b[0m\u001b[0marray\u001b[0m\u001b[0;34m(\u001b[0m\u001b[0mb\u001b[0m\u001b[0;34m)\u001b[0m\u001b[0;34m\u001b[0m\u001b[0;34m\u001b[0m\u001b[0m\n\u001b[0m\u001b[1;32m      2\u001b[0m \u001b[0;34m\u001b[0m\u001b[0m\n\u001b[1;32m      3\u001b[0m \u001b[0;31m# can't be added cause shapes are different\u001b[0m\u001b[0;34m\u001b[0m\u001b[0;34m\u001b[0m\u001b[0;34m\u001b[0m\u001b[0m\n",
      "\u001b[0;31mValueError\u001b[0m: operands could not be broadcast together with shapes (2,3,5) (5,2,3) "
     ]
    }
   ],
   "source": [
    "np.array(a) + np.array(b) \n",
    "\n",
    "# can't be added cause shapes are different "
   ]
  },
  {
   "cell_type": "markdown",
   "metadata": {},
   "source": [
    "#### 9. Transpose *b* so that it has the same structure of *a* (i.e. become a 2x3x5 array). Assign the transposed array to variable *c*."
   ]
  },
  {
   "cell_type": "code",
   "execution_count": 16,
   "metadata": {},
   "outputs": [
    {
     "name": "stdout",
     "output_type": "stream",
     "text": [
      "[[[1. 1. 1. 1. 1.]\n",
      "  [1. 1. 1. 1. 1.]\n",
      "  [1. 1. 1. 1. 1.]]\n",
      "\n",
      " [[1. 1. 1. 1. 1.]\n",
      "  [1. 1. 1. 1. 1.]\n",
      "  [1. 1. 1. 1. 1.]]]\n"
     ]
    }
   ],
   "source": [
    "c = np.transpose(b, (1,2,0))\n",
    "print(c)"
   ]
  },
  {
   "cell_type": "markdown",
   "metadata": {},
   "source": [
    "#### 10. Try to add *a* and *c*. Now it should work. Assign the sum to variable *d*. But why does it work now?"
   ]
  },
  {
   "cell_type": "code",
   "execution_count": 17,
   "metadata": {},
   "outputs": [
    {
     "name": "stdout",
     "output_type": "stream",
     "text": [
      "[[[1.39949987 1.00039598 1.44418337 1.39947585 1.60401621]\n",
      "  [1.2868889  1.44244799 1.34115117 1.64758145 1.80752771]\n",
      "  [1.05898876 1.32947663 1.61007797 1.733768   1.14826785]]\n",
      "\n",
      " [[1.35584638 1.39493128 1.09844617 1.72394619 1.78523996]\n",
      "  [1.22199174 1.45968511 1.51605308 1.46472723 1.78687874]\n",
      "  [1.75674974 1.41904701 1.59420663 1.41288812 1.68166602]]]\n"
     ]
    }
   ],
   "source": [
    "d = np.array(a) + np.array(c)\n",
    "print(d)\n",
    "\n",
    "#same shape"
   ]
  },
  {
   "cell_type": "markdown",
   "metadata": {},
   "source": [
    "#### 11. Print *a* and *d*. Notice the difference and relation of the two array in terms of the values? Explain."
   ]
  },
  {
   "cell_type": "code",
   "execution_count": 18,
   "metadata": {},
   "outputs": [
    {
     "name": "stdout",
     "output_type": "stream",
     "text": [
      "[[[3.99499871e-01 3.95980828e-04 4.44183371e-01 3.99475850e-01\n",
      "   6.04016207e-01]\n",
      "  [2.86888903e-01 4.42447990e-01 3.41151165e-01 6.47581455e-01\n",
      "   8.07527711e-01]\n",
      "  [5.89887572e-02 3.29476633e-01 6.10077973e-01 7.33767997e-01\n",
      "   1.48267851e-01]]\n",
      "\n",
      " [[3.55846376e-01 3.94931283e-01 9.84461673e-02 7.23946191e-01\n",
      "   7.85239963e-01]\n",
      "  [2.21991738e-01 4.59685106e-01 5.16053081e-01 4.64727233e-01\n",
      "   7.86878739e-01]\n",
      "  [7.56749738e-01 4.19047013e-01 5.94206631e-01 4.12888121e-01\n",
      "   6.81666024e-01]]]\n",
      "[[[1.39949987 1.00039598 1.44418337 1.39947585 1.60401621]\n",
      "  [1.2868889  1.44244799 1.34115117 1.64758145 1.80752771]\n",
      "  [1.05898876 1.32947663 1.61007797 1.733768   1.14826785]]\n",
      "\n",
      " [[1.35584638 1.39493128 1.09844617 1.72394619 1.78523996]\n",
      "  [1.22199174 1.45968511 1.51605308 1.46472723 1.78687874]\n",
      "  [1.75674974 1.41904701 1.59420663 1.41288812 1.68166602]]]\n"
     ]
    }
   ],
   "source": [
    "print(a)\n",
    "print(d)\n",
    "\n",
    "# array(d) - array(a) = 1"
   ]
  },
  {
   "cell_type": "markdown",
   "metadata": {},
   "source": [
    "#### 12. Multiply *a* and *c*. Assign the result to *e*."
   ]
  },
  {
   "cell_type": "code",
   "execution_count": 19,
   "metadata": {},
   "outputs": [
    {
     "name": "stdout",
     "output_type": "stream",
     "text": [
      "[[[3.99499871e-01 3.95980828e-04 4.44183371e-01 3.99475850e-01\n",
      "   6.04016207e-01]\n",
      "  [2.86888903e-01 4.42447990e-01 3.41151165e-01 6.47581455e-01\n",
      "   8.07527711e-01]\n",
      "  [5.89887572e-02 3.29476633e-01 6.10077973e-01 7.33767997e-01\n",
      "   1.48267851e-01]]\n",
      "\n",
      " [[3.55846376e-01 3.94931283e-01 9.84461673e-02 7.23946191e-01\n",
      "   7.85239963e-01]\n",
      "  [2.21991738e-01 4.59685106e-01 5.16053081e-01 4.64727233e-01\n",
      "   7.86878739e-01]\n",
      "  [7.56749738e-01 4.19047013e-01 5.94206631e-01 4.12888121e-01\n",
      "   6.81666024e-01]]]\n"
     ]
    }
   ],
   "source": [
    "e = np.array(a) * np.array(c)\n",
    "print(e)"
   ]
  },
  {
   "cell_type": "markdown",
   "metadata": {},
   "source": [
    "#### 13. Does *e* equal to *a*? Why or why not?\n"
   ]
  },
  {
   "cell_type": "code",
   "execution_count": 20,
   "metadata": {},
   "outputs": [
    {
     "data": {
      "text/plain": [
       "array([[[ True,  True,  True,  True,  True],\n",
       "        [ True,  True,  True,  True,  True],\n",
       "        [ True,  True,  True,  True,  True]],\n",
       "\n",
       "       [[ True,  True,  True,  True,  True],\n",
       "        [ True,  True,  True,  True,  True],\n",
       "        [ True,  True,  True,  True,  True]]])"
      ]
     },
     "execution_count": 20,
     "metadata": {},
     "output_type": "execute_result"
    }
   ],
   "source": [
    "np.array(a) == np.array(e)\n",
    "\n",
    "# e = a*1 "
   ]
  },
  {
   "cell_type": "markdown",
   "metadata": {},
   "source": [
    "#### 14. Identify the max, min, and mean values in *d*. Assign those values to variables *d_max*, *d_min* and *d_mean*."
   ]
  },
  {
   "cell_type": "code",
   "execution_count": 21,
   "metadata": {},
   "outputs": [
    {
     "name": "stdout",
     "output_type": "stream",
     "text": [
      "1.8075277105172831\n",
      "1.0003959808281206\n",
      "1.4642017039575648\n"
     ]
    }
   ],
   "source": [
    "d_max = np.max(d)\n",
    "print(d_max)\n",
    "d_min = np.min(d)\n",
    "print(d_min)\n",
    "d_mean = np.mean(d)\n",
    "print(d_mean)"
   ]
  },
  {
   "cell_type": "markdown",
   "metadata": {},
   "source": [
    "#### 15. Now we want to label the values in *d*. First create an empty array *f* with the same shape (i.e. 2x3x5) as *d* using `np.empty`.\n"
   ]
  },
  {
   "cell_type": "code",
   "execution_count": 22,
   "metadata": {},
   "outputs": [
    {
     "name": "stdout",
     "output_type": "stream",
     "text": [
      "[[[3.99499871e-01 3.95980828e-04 4.44183371e-01 3.99475850e-01\n",
      "   6.04016207e-01]\n",
      "  [2.86888903e-01 4.42447990e-01 3.41151165e-01 6.47581455e-01\n",
      "   8.07527711e-01]\n",
      "  [5.89887572e-02 3.29476633e-01 6.10077973e-01 7.33767997e-01\n",
      "   1.48267851e-01]]\n",
      "\n",
      " [[3.55846376e-01 3.94931283e-01 9.84461673e-02 7.23946191e-01\n",
      "   7.85239963e-01]\n",
      "  [2.21991738e-01 4.59685106e-01 5.16053081e-01 4.64727233e-01\n",
      "   7.86878739e-01]\n",
      "  [7.56749738e-01 4.19047013e-01 5.94206631e-01 4.12888121e-01\n",
      "   6.81666024e-01]]]\n"
     ]
    }
   ],
   "source": [
    "f = np.empty(shape = [2,3,5])\n",
    "print(f)"
   ]
  },
  {
   "cell_type": "markdown",
   "metadata": {},
   "source": [
    "#### 16. Populate the values in *f*. \n",
    "\n",
    "For each value in *d*, if it's larger than *d_min* but smaller than *d_mean*, assign 25 to the corresponding value in *f*. If a value in *d* is larger than *d_mean* but smaller than *d_max*, assign 75 to the corresponding value in *f*. If a value equals to *d_mean*, assign 50 to the corresponding value in *f*. Assign 0 to the corresponding value(s) in *f* for *d_min* in *d*. Assign 100 to the corresponding value(s) in *f* for *d_max* in *d*. In the end, f should have only the following values: 0, 25, 50, 75, and 100.\n",
    "\n",
    "**Note**: you don't have to use Numpy in this question."
   ]
  },
  {
   "cell_type": "code",
   "execution_count": 32,
   "metadata": {},
   "outputs": [
    {
     "ename": "SyntaxError",
     "evalue": "invalid syntax (<ipython-input-32-bc8dadce9dd2>, line 10)",
     "output_type": "error",
     "traceback": [
      "\u001b[0;36m  File \u001b[0;32m\"<ipython-input-32-bc8dadce9dd2>\"\u001b[0;36m, line \u001b[0;32m10\u001b[0m\n\u001b[0;31m    else: i == d_max:\u001b[0m\n\u001b[0m                     ^\u001b[0m\n\u001b[0;31mSyntaxError\u001b[0m\u001b[0;31m:\u001b[0m invalid syntax\n"
     ]
    }
   ],
   "source": [
    "def new_array(i):\n",
    "    if i > d_min and i < d_mean:\n",
    "           return 25\n",
    "    elif i > d_mean and i < d_mean:\n",
    "           return 50\n",
    "    elif i > d_mean and i < d_max:\n",
    "           return 75\n",
    "    elif i == d_min:\n",
    "           return 0\n",
    "    else: i == d_max:\n",
    "        return 100\n",
    "vfunc = np.vectorize(new_array)\n",
    "f = vfunc(f)\n",
    "print(f)"
   ]
  },
  {
   "cell_type": "markdown",
   "metadata": {},
   "source": [
    "#### 17. Print *d* and *f*. Do you have your expected *f*?\n",
    "For instance, if your *d* is:\n",
    "```python\n",
    "[[[1.85836099, 1.67064465, 1.62576044, 1.40243961, 1.88454931],\n",
    "[1.75354326, 1.69403643, 1.36729252, 1.61415071, 1.12104981],\n",
    "[1.72201435, 1.1862918 , 1.87078449, 1.7726778 , 1.88180042]],\n",
    "[[1.44747908, 1.31673383, 1.02000951, 1.52218947, 1.97066381],\n",
    "[1.79129243, 1.74983003, 1.96028037, 1.85166831, 1.65450881],\n",
    "[1.18068344, 1.9587381 , 1.00656599, 1.93402165, 1.73514584]]]\n",
    "```\n",
    "Your *f* should be:\n",
    "```python\n",
    "[[[ 75.,  75.,  75.,  25.,  75.],\n",
    "[ 75.,  75.,  25.,  25.,  25.],\n",
    "[ 75.,  25.,  75.,  75.,  75.]],\n",
    "[[ 25.,  25.,  25.,  25., 100.],\n",
    "[ 75.,  75.,  75.,  75.,  75.],\n",
    "[ 25.,  75.,   0.,  75.,  75.]]]\n",
    "```"
   ]
  },
  {
   "cell_type": "code",
   "execution_count": 21,
   "metadata": {},
   "outputs": [
    {
     "name": "stdout",
     "output_type": "stream",
     "text": [
      "[[[1.95413987 1.57520879 1.16023215 1.29727111 1.42395523]\n",
      "  [1.06797839 1.97542664 1.94719458 1.58780786 1.52829438]\n",
      "  [1.69417058 1.70377903 1.64056794 1.08868076 1.95502063]]\n",
      "\n",
      " [[1.12354339 1.66503848 1.48741365 1.7549864  1.63444106]\n",
      "  [1.3030432  1.95014926 1.28899662 1.48571213 1.85360681]\n",
      "  [1.93755767 1.58987409 1.52672326 1.85927966 1.75034016]]]\n"
     ]
    }
   ],
   "source": [
    "print(d)"
   ]
  },
  {
   "cell_type": "markdown",
   "metadata": {},
   "source": [
    "#### 18. Bonus question: instead of using numbers (i.e. 0, 25, 50, 75, and 100), use string values  (\"A\", \"B\", \"C\", \"D\", and \"E\") to label the array elements. For the example above, the expected result is:\n",
    "\n",
    "```python\n",
    "[[[ 'D',  'D',  'D',  'B',  'D'],\n",
    "[ 'D',  'D',  'B',  'B',  'B'],\n",
    "[ 'D',  'B',  'D',  'D',  'D']],\n",
    "[[ 'B',  'B',  'B',  'B',  'E'],\n",
    "[ 'D',  'D',  'D',  'D',  'D'],\n",
    "[ 'B',  'D',   'A',  'D', 'D']]]\n",
    "```\n",
    "**Note**: you don't have to use Numpy in this question."
   ]
  },
  {
   "cell_type": "code",
   "execution_count": null,
   "metadata": {},
   "outputs": [],
   "source": [
    "# your code here"
   ]
  }
 ],
 "metadata": {
  "kernelspec": {
   "display_name": "Python 3",
   "language": "python",
   "name": "python3"
  },
  "language_info": {
   "codemirror_mode": {
    "name": "ipython",
    "version": 3
   },
   "file_extension": ".py",
   "mimetype": "text/x-python",
   "name": "python",
   "nbconvert_exporter": "python",
   "pygments_lexer": "ipython3",
   "version": "3.7.4"
  }
 },
 "nbformat": 4,
 "nbformat_minor": 2
}
